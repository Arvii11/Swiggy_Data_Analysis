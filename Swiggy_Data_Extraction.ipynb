{
 "cells": [
  {
   "cell_type": "markdown",
   "id": "4afdb9a3",
   "metadata": {},
   "source": [
    "# ***Swiggy Data Analysis***"
   ]
  },
  {
   "cell_type": "markdown",
   "id": "25a8e976",
   "metadata": {},
   "source": [
    "## ***Data Extraction***"
   ]
  },
  {
   "cell_type": "code",
   "execution_count": 1,
   "id": "f588a12e",
   "metadata": {},
   "outputs": [],
   "source": [
    "from bs4 import BeautifulSoup\n",
    "import requests\n",
    "import pandas as pd \n",
    "import csv\n",
    "import numpy as np\n",
    "import matplotlib.pyplot as plt\n",
    "import seaborn as sns\n",
    "import warnings\n",
    "warnings.filterwarnings('ignore')"
   ]
  },
  {
   "cell_type": "code",
   "execution_count": 2,
   "id": "2af3d527",
   "metadata": {},
   "outputs": [],
   "source": [
    "# creating empty list for features.\n",
    "name=[]\n",
    "type_=[]\n",
    "rating = []\n",
    "time=[]\n",
    "amount =[]\n",
    "for page in range(1,30):\n",
    "    url = 'https://www.swiggy.com/hyderabad?page={}'.format(page)\n",
    "    page = requests.get(url)\n",
    "    soup = BeautifulSoup(page.content)\n",
    "    for res_name in soup.find_all('div',class_ = \"nA6kb\"):\n",
    "        name.append(res_name.text)\n",
    "    for res_time in soup.find_all('div',class_ = '_3Mn31'):\n",
    "        time.append(res_time.text)\n",
    "    for i in soup.find_all('div',class_='_1gURR'):\n",
    "        type_.append(i.text)"
   ]
  },
  {
   "cell_type": "code",
   "execution_count": 3,
   "id": "49f8d628",
   "metadata": {},
   "outputs": [],
   "source": [
    "d = {'Restaurant':name,\n",
    "    'Type':type_,\n",
    "    \n",
    "    'Time':time}"
   ]
  },
  {
   "cell_type": "code",
   "execution_count": 4,
   "id": "cf218ba0",
   "metadata": {},
   "outputs": [],
   "source": [
    "df= pd.DataFrame(d)"
   ]
  },
  {
   "cell_type": "code",
   "execution_count": 5,
   "id": "ee1ab5f6",
   "metadata": {},
   "outputs": [
    {
     "data": {
      "text/plain": [
       "464"
      ]
     },
     "execution_count": 5,
     "metadata": {},
     "output_type": "execute_result"
    }
   ],
   "source": [
    "len(type_)"
   ]
  },
  {
   "cell_type": "code",
   "execution_count": 6,
   "id": "b6bdd3c7",
   "metadata": {},
   "outputs": [],
   "source": [
    "df.to_csv('swiggy_biryani.csv')"
   ]
  },
  {
   "cell_type": "code",
   "execution_count": 7,
   "id": "bd7ebe85",
   "metadata": {},
   "outputs": [],
   "source": [
    "# creating empty list of features.\n",
    "\n",
    "name=[]\n",
    "type_=[]\n",
    "rating = []\n",
    "time=[]\n",
    "amount =[]\n",
    "for page in range(1,30):\n",
    "    url = 'https://www.swiggy.com/hyderabad/north-indian-collection?page={}'.format(page)\n",
    "    page = requests.get(url)\n",
    "    soup = BeautifulSoup(page.content)\n",
    "    for res_name in soup.find_all('div',class_ = \"nA6kb\"):\n",
    "           name.append(res_name.text)\n",
    "    for res_time in soup.find_all('div',class_ = '_3Mn31'):\n",
    "            time.append(res_time.text)\n",
    "    for i in soup.find_all('div',class_='_1gURR'):\n",
    "            type_.append(i.text)"
   ]
  },
  {
   "cell_type": "code",
   "execution_count": 8,
   "id": "45d32d48",
   "metadata": {},
   "outputs": [],
   "source": [
    "d1 = {'Restaurant':name,\n",
    "    'Type':type_,\n",
    "      'Time':time}"
   ]
  },
  {
   "cell_type": "code",
   "execution_count": 9,
   "id": "cd89235b",
   "metadata": {},
   "outputs": [
    {
     "data": {
      "text/plain": [
       "0"
      ]
     },
     "execution_count": 9,
     "metadata": {},
     "output_type": "execute_result"
    }
   ],
   "source": [
    "len(rating)"
   ]
  },
  {
   "cell_type": "code",
   "execution_count": 10,
   "id": "95b99ae9",
   "metadata": {},
   "outputs": [],
   "source": [
    "df1 = pd.DataFrame(d1)"
   ]
  },
  {
   "cell_type": "code",
   "execution_count": 11,
   "id": "2350207c",
   "metadata": {},
   "outputs": [
    {
     "data": {
      "text/html": [
       "<div>\n",
       "<style scoped>\n",
       "    .dataframe tbody tr th:only-of-type {\n",
       "        vertical-align: middle;\n",
       "    }\n",
       "\n",
       "    .dataframe tbody tr th {\n",
       "        vertical-align: top;\n",
       "    }\n",
       "\n",
       "    .dataframe thead th {\n",
       "        text-align: right;\n",
       "    }\n",
       "</style>\n",
       "<table border=\"1\" class=\"dataframe\">\n",
       "  <thead>\n",
       "    <tr style=\"text-align: right;\">\n",
       "      <th></th>\n",
       "      <th>Restaurant</th>\n",
       "      <th>Type</th>\n",
       "      <th>Time</th>\n",
       "    </tr>\n",
       "  </thead>\n",
       "  <tbody>\n",
       "    <tr>\n",
       "      <th>0</th>\n",
       "      <td>Maalgaadi by Dhaba Estd 1986 Delhi</td>\n",
       "      <td>North Indian, Indian, Biryani, Punjabi, Kebabs...</td>\n",
       "      <td>4.1•30 MINS•₹300 FOR TWO</td>\n",
       "    </tr>\n",
       "    <tr>\n",
       "      <th>1</th>\n",
       "      <td>Chaitanya Food Court</td>\n",
       "      <td>Biryani, Chinese, Andhra, North Indian</td>\n",
       "      <td>4.0•34 MINS•₹600 FOR TWO</td>\n",
       "    </tr>\n",
       "    <tr>\n",
       "      <th>2</th>\n",
       "      <td>The Bowl Concepts</td>\n",
       "      <td>North Indian, Indian</td>\n",
       "      <td>4.0•31 MINS•₹300 FOR TWO</td>\n",
       "    </tr>\n",
       "    <tr>\n",
       "      <th>3</th>\n",
       "      <td>Shah Ghouse Hotel</td>\n",
       "      <td>Biryani, North Indian, Chinese, Mughlai, Tandoor</td>\n",
       "      <td>3.9•31 MINS•₹300 FOR TWO</td>\n",
       "    </tr>\n",
       "    <tr>\n",
       "      <th>4</th>\n",
       "      <td>Raja Rani Ruchulu</td>\n",
       "      <td>Biryani, Indian, Chinese, Tandoor, North India...</td>\n",
       "      <td>4.0•37 MINS•₹300 FOR TWO</td>\n",
       "    </tr>\n",
       "    <tr>\n",
       "      <th>...</th>\n",
       "      <td>...</td>\n",
       "      <td>...</td>\n",
       "      <td>...</td>\n",
       "    </tr>\n",
       "    <tr>\n",
       "      <th>291</th>\n",
       "      <td>Dca cafe &amp; Bistro</td>\n",
       "      <td>Arabian, North Indian, Thalis</td>\n",
       "      <td>--•28 MINS•₹500 FOR TWO</td>\n",
       "    </tr>\n",
       "    <tr>\n",
       "      <th>292</th>\n",
       "      <td>Oolta Tawa</td>\n",
       "      <td>North Indian</td>\n",
       "      <td>3.5•39 MINS•₹200 FOR TWO</td>\n",
       "    </tr>\n",
       "    <tr>\n",
       "      <th>293</th>\n",
       "      <td>Air Live</td>\n",
       "      <td>Tandoor, Pizzas, North Indian, Fast Food, Chinese</td>\n",
       "      <td>--•45 MINS•₹700 FOR TWO</td>\n",
       "    </tr>\n",
       "    <tr>\n",
       "      <th>294</th>\n",
       "      <td>Telangana Hotel</td>\n",
       "      <td>Indian, Chinese, North Indian</td>\n",
       "      <td>--•42 MINS•₹350 FOR TWO</td>\n",
       "    </tr>\n",
       "    <tr>\n",
       "      <th>295</th>\n",
       "      <td>Punjab Bistro Express</td>\n",
       "      <td>North Indian, Biryani, Combo, Tandoor</td>\n",
       "      <td>--•44 MINS•₹450 FOR TWO</td>\n",
       "    </tr>\n",
       "  </tbody>\n",
       "</table>\n",
       "<p>296 rows × 3 columns</p>\n",
       "</div>"
      ],
      "text/plain": [
       "                             Restaurant  \\\n",
       "0    Maalgaadi by Dhaba Estd 1986 Delhi   \n",
       "1                  Chaitanya Food Court   \n",
       "2                     The Bowl Concepts   \n",
       "3                     Shah Ghouse Hotel   \n",
       "4                     Raja Rani Ruchulu   \n",
       "..                                  ...   \n",
       "291                   Dca cafe & Bistro   \n",
       "292                          Oolta Tawa   \n",
       "293                            Air Live   \n",
       "294                     Telangana Hotel   \n",
       "295               Punjab Bistro Express   \n",
       "\n",
       "                                                  Type  \\\n",
       "0    North Indian, Indian, Biryani, Punjabi, Kebabs...   \n",
       "1               Biryani, Chinese, Andhra, North Indian   \n",
       "2                                 North Indian, Indian   \n",
       "3     Biryani, North Indian, Chinese, Mughlai, Tandoor   \n",
       "4    Biryani, Indian, Chinese, Tandoor, North India...   \n",
       "..                                                 ...   \n",
       "291                      Arabian, North Indian, Thalis   \n",
       "292                                       North Indian   \n",
       "293  Tandoor, Pizzas, North Indian, Fast Food, Chinese   \n",
       "294                      Indian, Chinese, North Indian   \n",
       "295              North Indian, Biryani, Combo, Tandoor   \n",
       "\n",
       "                         Time  \n",
       "0    4.1•30 MINS•₹300 FOR TWO  \n",
       "1    4.0•34 MINS•₹600 FOR TWO  \n",
       "2    4.0•31 MINS•₹300 FOR TWO  \n",
       "3    3.9•31 MINS•₹300 FOR TWO  \n",
       "4    4.0•37 MINS•₹300 FOR TWO  \n",
       "..                        ...  \n",
       "291   --•28 MINS•₹500 FOR TWO  \n",
       "292  3.5•39 MINS•₹200 FOR TWO  \n",
       "293   --•45 MINS•₹700 FOR TWO  \n",
       "294   --•42 MINS•₹350 FOR TWO  \n",
       "295   --•44 MINS•₹450 FOR TWO  \n",
       "\n",
       "[296 rows x 3 columns]"
      ]
     },
     "execution_count": 11,
     "metadata": {},
     "output_type": "execute_result"
    }
   ],
   "source": [
    "df1"
   ]
  },
  {
   "cell_type": "code",
   "execution_count": 12,
   "id": "ac037bb6",
   "metadata": {},
   "outputs": [],
   "source": [
    "df1.to_csv('swiggy_northindian.csv')"
   ]
  },
  {
   "cell_type": "code",
   "execution_count": 13,
   "id": "d58d9a15",
   "metadata": {},
   "outputs": [],
   "source": [
    "#creating a new empty list.\n",
    "name =[]\n",
    "type_=[]\n",
    "time = []\n",
    "rating = []\n",
    "price = []\n",
    "for page in range(1,30):\n",
    "    url = 'https://www.swiggy.com/hyderabad/top-rated-collection?page={}'.format(page)\n",
    "    page = requests.get(url)\n",
    "    soup = BeautifulSoup(page.content)\n",
    "    for res_name in soup.find_all('div',class_ = \"nA6kb\"):\n",
    "           name.append(res_name.text)\n",
    "    for res_time in soup.find_all('div',class_ = '_3Mn31'):\n",
    "            time.append(res_time.text)\n",
    "    for i in soup.find_all('div',class_='_1gURR'):\n",
    "            type_.append(i.text)\n",
    "    "
   ]
  },
  {
   "cell_type": "code",
   "execution_count": 14,
   "id": "ebfe2f1c",
   "metadata": {},
   "outputs": [],
   "source": [
    "d2 = {'Restaurant':name,\n",
    "     'Type':type_,\n",
    "     'Time':time}"
   ]
  },
  {
   "cell_type": "code",
   "execution_count": 15,
   "id": "1718e0ae",
   "metadata": {},
   "outputs": [
    {
     "data": {
      "text/html": [
       "<div>\n",
       "<style scoped>\n",
       "    .dataframe tbody tr th:only-of-type {\n",
       "        vertical-align: middle;\n",
       "    }\n",
       "\n",
       "    .dataframe tbody tr th {\n",
       "        vertical-align: top;\n",
       "    }\n",
       "\n",
       "    .dataframe thead th {\n",
       "        text-align: right;\n",
       "    }\n",
       "</style>\n",
       "<table border=\"1\" class=\"dataframe\">\n",
       "  <thead>\n",
       "    <tr style=\"text-align: right;\">\n",
       "      <th></th>\n",
       "      <th>Restaurant</th>\n",
       "      <th>Type</th>\n",
       "      <th>Time</th>\n",
       "    </tr>\n",
       "  </thead>\n",
       "  <tbody>\n",
       "    <tr>\n",
       "      <th>0</th>\n",
       "      <td>Earth Craft</td>\n",
       "      <td>Indian, Beverages</td>\n",
       "      <td>5.0•44 MINS•₹600 FOR TWO</td>\n",
       "    </tr>\n",
       "    <tr>\n",
       "      <th>1</th>\n",
       "      <td>Authentic Belgian Waffles</td>\n",
       "      <td>Waffle, Desserts</td>\n",
       "      <td>4.9•48 MINS•₹300 FOR TWO</td>\n",
       "    </tr>\n",
       "    <tr>\n",
       "      <th>2</th>\n",
       "      <td>Splurge - Thickshakes and Milkshakes</td>\n",
       "      <td>Beverages, Desserts</td>\n",
       "      <td>4.8•33 MINS•₹300 FOR TWO</td>\n",
       "    </tr>\n",
       "    <tr>\n",
       "      <th>3</th>\n",
       "      <td>Zorro - Milkshakes and Thickshakes</td>\n",
       "      <td>Desserts, Beverages, Ice Cream, Juices</td>\n",
       "      <td>4.8•35 MINS•₹300 FOR TWO</td>\n",
       "    </tr>\n",
       "    <tr>\n",
       "      <th>4</th>\n",
       "      <td>Fruitoholic</td>\n",
       "      <td>Beverages, Healthy Food</td>\n",
       "      <td>4.8•43 MINS•₹200 FOR TWO</td>\n",
       "    </tr>\n",
       "    <tr>\n",
       "      <th>...</th>\n",
       "      <td>...</td>\n",
       "      <td>...</td>\n",
       "      <td>...</td>\n",
       "    </tr>\n",
       "    <tr>\n",
       "      <th>459</th>\n",
       "      <td>SRINIDHI RESTAURANT</td>\n",
       "      <td>South Indian, North Indian, Biryani, Chinese</td>\n",
       "      <td>3.9•41 MINS•₹390 FOR TWO</td>\n",
       "    </tr>\n",
       "    <tr>\n",
       "      <th>460</th>\n",
       "      <td>Hotel Swagath Residency - Dhanturi Group of Ho...</td>\n",
       "      <td>Biryani, Tandoor, Chinese, Seafood, Beverages,...</td>\n",
       "      <td>3.9•53 MINS•₹500 FOR TWO</td>\n",
       "    </tr>\n",
       "    <tr>\n",
       "      <th>461</th>\n",
       "      <td>Indiana Burgers</td>\n",
       "      <td>American, Desserts, Fast Food</td>\n",
       "      <td>3.9•42 MINS•₹150 FOR TWO</td>\n",
       "    </tr>\n",
       "    <tr>\n",
       "      <th>462</th>\n",
       "      <td>JAIN KITCHEN PURE VEGETARIAN  RESTAURANT</td>\n",
       "      <td>North Indian, South Indian, Jain, Chinese, Tan...</td>\n",
       "      <td>3.9•47 MINS•₹400 FOR TWO</td>\n",
       "    </tr>\n",
       "    <tr>\n",
       "      <th>463</th>\n",
       "      <td>Warm N Spice</td>\n",
       "      <td>Indian, Chinese, Tandoor</td>\n",
       "      <td>3.9•42 MINS•₹399 FOR TWO</td>\n",
       "    </tr>\n",
       "  </tbody>\n",
       "</table>\n",
       "<p>464 rows × 3 columns</p>\n",
       "</div>"
      ],
      "text/plain": [
       "                                            Restaurant  \\\n",
       "0                                          Earth Craft   \n",
       "1                            Authentic Belgian Waffles   \n",
       "2                 Splurge - Thickshakes and Milkshakes   \n",
       "3                   Zorro - Milkshakes and Thickshakes   \n",
       "4                                          Fruitoholic   \n",
       "..                                                 ...   \n",
       "459                                SRINIDHI RESTAURANT   \n",
       "460  Hotel Swagath Residency - Dhanturi Group of Ho...   \n",
       "461                                    Indiana Burgers   \n",
       "462           JAIN KITCHEN PURE VEGETARIAN  RESTAURANT   \n",
       "463                                       Warm N Spice   \n",
       "\n",
       "                                                  Type  \\\n",
       "0                                    Indian, Beverages   \n",
       "1                                     Waffle, Desserts   \n",
       "2                                  Beverages, Desserts   \n",
       "3               Desserts, Beverages, Ice Cream, Juices   \n",
       "4                              Beverages, Healthy Food   \n",
       "..                                                 ...   \n",
       "459       South Indian, North Indian, Biryani, Chinese   \n",
       "460  Biryani, Tandoor, Chinese, Seafood, Beverages,...   \n",
       "461                      American, Desserts, Fast Food   \n",
       "462  North Indian, South Indian, Jain, Chinese, Tan...   \n",
       "463                           Indian, Chinese, Tandoor   \n",
       "\n",
       "                         Time  \n",
       "0    5.0•44 MINS•₹600 FOR TWO  \n",
       "1    4.9•48 MINS•₹300 FOR TWO  \n",
       "2    4.8•33 MINS•₹300 FOR TWO  \n",
       "3    4.8•35 MINS•₹300 FOR TWO  \n",
       "4    4.8•43 MINS•₹200 FOR TWO  \n",
       "..                        ...  \n",
       "459  3.9•41 MINS•₹390 FOR TWO  \n",
       "460  3.9•53 MINS•₹500 FOR TWO  \n",
       "461  3.9•42 MINS•₹150 FOR TWO  \n",
       "462  3.9•47 MINS•₹400 FOR TWO  \n",
       "463  3.9•42 MINS•₹399 FOR TWO  \n",
       "\n",
       "[464 rows x 3 columns]"
      ]
     },
     "execution_count": 15,
     "metadata": {},
     "output_type": "execute_result"
    }
   ],
   "source": [
    "df2 = pd.DataFrame(d2)\n",
    "df2"
   ]
  },
  {
   "cell_type": "code",
   "execution_count": 16,
   "id": "e45c750b",
   "metadata": {},
   "outputs": [],
   "source": [
    "df2.to_csv('swiggy_toprated.csv')"
   ]
  },
  {
   "cell_type": "code",
   "execution_count": 17,
   "id": "49873941",
   "metadata": {},
   "outputs": [
    {
     "data": {
      "text/plain": [
       "464"
      ]
     },
     "execution_count": 17,
     "metadata": {},
     "output_type": "execute_result"
    }
   ],
   "source": [
    "len(name)"
   ]
  },
  {
   "cell_type": "code",
   "execution_count": 18,
   "id": "274d942c",
   "metadata": {},
   "outputs": [
    {
     "data": {
      "text/html": [
       "<div>\n",
       "<style scoped>\n",
       "    .dataframe tbody tr th:only-of-type {\n",
       "        vertical-align: middle;\n",
       "    }\n",
       "\n",
       "    .dataframe tbody tr th {\n",
       "        vertical-align: top;\n",
       "    }\n",
       "\n",
       "    .dataframe thead th {\n",
       "        text-align: right;\n",
       "    }\n",
       "</style>\n",
       "<table border=\"1\" class=\"dataframe\">\n",
       "  <thead>\n",
       "    <tr style=\"text-align: right;\">\n",
       "      <th></th>\n",
       "      <th>Restaurant</th>\n",
       "      <th>Type</th>\n",
       "      <th>Time</th>\n",
       "    </tr>\n",
       "  </thead>\n",
       "  <tbody>\n",
       "    <tr>\n",
       "      <th>0</th>\n",
       "      <td>Earth Craft</td>\n",
       "      <td>Indian, Beverages</td>\n",
       "      <td>5.0•44 MINS•₹600 FOR TWO</td>\n",
       "    </tr>\n",
       "    <tr>\n",
       "      <th>1</th>\n",
       "      <td>Authentic Belgian Waffles</td>\n",
       "      <td>Waffle, Desserts</td>\n",
       "      <td>4.9•48 MINS•₹300 FOR TWO</td>\n",
       "    </tr>\n",
       "    <tr>\n",
       "      <th>2</th>\n",
       "      <td>Splurge - Thickshakes and Milkshakes</td>\n",
       "      <td>Beverages, Desserts</td>\n",
       "      <td>4.8•33 MINS•₹300 FOR TWO</td>\n",
       "    </tr>\n",
       "    <tr>\n",
       "      <th>3</th>\n",
       "      <td>Zorro - Milkshakes and Thickshakes</td>\n",
       "      <td>Desserts, Beverages, Ice Cream, Juices</td>\n",
       "      <td>4.8•35 MINS•₹300 FOR TWO</td>\n",
       "    </tr>\n",
       "    <tr>\n",
       "      <th>4</th>\n",
       "      <td>Fruitoholic</td>\n",
       "      <td>Beverages, Healthy Food</td>\n",
       "      <td>4.8•43 MINS•₹200 FOR TWO</td>\n",
       "    </tr>\n",
       "    <tr>\n",
       "      <th>...</th>\n",
       "      <td>...</td>\n",
       "      <td>...</td>\n",
       "      <td>...</td>\n",
       "    </tr>\n",
       "    <tr>\n",
       "      <th>459</th>\n",
       "      <td>SRINIDHI RESTAURANT</td>\n",
       "      <td>South Indian, North Indian, Biryani, Chinese</td>\n",
       "      <td>3.9•41 MINS•₹390 FOR TWO</td>\n",
       "    </tr>\n",
       "    <tr>\n",
       "      <th>460</th>\n",
       "      <td>Hotel Swagath Residency - Dhanturi Group of Ho...</td>\n",
       "      <td>Biryani, Tandoor, Chinese, Seafood, Beverages,...</td>\n",
       "      <td>3.9•53 MINS•₹500 FOR TWO</td>\n",
       "    </tr>\n",
       "    <tr>\n",
       "      <th>461</th>\n",
       "      <td>Indiana Burgers</td>\n",
       "      <td>American, Desserts, Fast Food</td>\n",
       "      <td>3.9•42 MINS•₹150 FOR TWO</td>\n",
       "    </tr>\n",
       "    <tr>\n",
       "      <th>462</th>\n",
       "      <td>JAIN KITCHEN PURE VEGETARIAN  RESTAURANT</td>\n",
       "      <td>North Indian, South Indian, Jain, Chinese, Tan...</td>\n",
       "      <td>3.9•47 MINS•₹400 FOR TWO</td>\n",
       "    </tr>\n",
       "    <tr>\n",
       "      <th>463</th>\n",
       "      <td>Warm N Spice</td>\n",
       "      <td>Indian, Chinese, Tandoor</td>\n",
       "      <td>3.9•42 MINS•₹399 FOR TWO</td>\n",
       "    </tr>\n",
       "  </tbody>\n",
       "</table>\n",
       "<p>464 rows × 3 columns</p>\n",
       "</div>"
      ],
      "text/plain": [
       "                                            Restaurant  \\\n",
       "0                                          Earth Craft   \n",
       "1                            Authentic Belgian Waffles   \n",
       "2                 Splurge - Thickshakes and Milkshakes   \n",
       "3                   Zorro - Milkshakes and Thickshakes   \n",
       "4                                          Fruitoholic   \n",
       "..                                                 ...   \n",
       "459                                SRINIDHI RESTAURANT   \n",
       "460  Hotel Swagath Residency - Dhanturi Group of Ho...   \n",
       "461                                    Indiana Burgers   \n",
       "462           JAIN KITCHEN PURE VEGETARIAN  RESTAURANT   \n",
       "463                                       Warm N Spice   \n",
       "\n",
       "                                                  Type  \\\n",
       "0                                    Indian, Beverages   \n",
       "1                                     Waffle, Desserts   \n",
       "2                                  Beverages, Desserts   \n",
       "3               Desserts, Beverages, Ice Cream, Juices   \n",
       "4                              Beverages, Healthy Food   \n",
       "..                                                 ...   \n",
       "459       South Indian, North Indian, Biryani, Chinese   \n",
       "460  Biryani, Tandoor, Chinese, Seafood, Beverages,...   \n",
       "461                      American, Desserts, Fast Food   \n",
       "462  North Indian, South Indian, Jain, Chinese, Tan...   \n",
       "463                           Indian, Chinese, Tandoor   \n",
       "\n",
       "                         Time  \n",
       "0    5.0•44 MINS•₹600 FOR TWO  \n",
       "1    4.9•48 MINS•₹300 FOR TWO  \n",
       "2    4.8•33 MINS•₹300 FOR TWO  \n",
       "3    4.8•35 MINS•₹300 FOR TWO  \n",
       "4    4.8•43 MINS•₹200 FOR TWO  \n",
       "..                        ...  \n",
       "459  3.9•41 MINS•₹390 FOR TWO  \n",
       "460  3.9•53 MINS•₹500 FOR TWO  \n",
       "461  3.9•42 MINS•₹150 FOR TWO  \n",
       "462  3.9•47 MINS•₹400 FOR TWO  \n",
       "463  3.9•42 MINS•₹399 FOR TWO  \n",
       "\n",
       "[464 rows x 3 columns]"
      ]
     },
     "execution_count": 18,
     "metadata": {},
     "output_type": "execute_result"
    }
   ],
   "source": [
    "df2"
   ]
  },
  {
   "cell_type": "code",
   "execution_count": 19,
   "id": "084a4137",
   "metadata": {},
   "outputs": [],
   "source": [
    "data = pd.concat([df,df1,df2])"
   ]
  },
  {
   "cell_type": "code",
   "execution_count": 20,
   "id": "44ea046b",
   "metadata": {},
   "outputs": [],
   "source": [
    "data.reset_index(inplace = True)"
   ]
  },
  {
   "cell_type": "code",
   "execution_count": 21,
   "id": "1b10d076",
   "metadata": {},
   "outputs": [],
   "source": [
    "data.to_csv('swiggy_whole_data.csv')"
   ]
  }
 ],
 "metadata": {
  "kernelspec": {
   "display_name": "Python 3 (ipykernel)",
   "language": "python",
   "name": "python3"
  },
  "language_info": {
   "codemirror_mode": {
    "name": "ipython",
    "version": 3
   },
   "file_extension": ".py",
   "mimetype": "text/x-python",
   "name": "python",
   "nbconvert_exporter": "python",
   "pygments_lexer": "ipython3",
   "version": "3.9.12"
  }
 },
 "nbformat": 4,
 "nbformat_minor": 5
}
